{
 "cells": [
  {
   "cell_type": "markdown",
   "metadata": {},
   "source": [
    "#  Config\n",
    "\n",
    "> Configuration parameters and synthetic datasets creation"
   ]
  },
  {
   "cell_type": "code",
   "execution_count": null,
   "metadata": {},
   "outputs": [],
   "source": [
    "#| default_exp config"
   ]
  },
  {
   "cell_type": "code",
   "execution_count": null,
   "metadata": {},
   "outputs": [],
   "source": [
    "#| hide\n",
    "from nbdev.showdoc import *"
   ]
  },
  {
   "cell_type": "code",
   "execution_count": null,
   "metadata": {},
   "outputs": [],
   "source": [
    "#| export\n",
    "import numpy as np\n",
    "import pandas as pd"
   ]
  },
  {
   "cell_type": "code",
   "execution_count": null,
   "metadata": {},
   "outputs": [],
   "source": [
    "#| export\n",
    "REF_COLOR = \"k\"\n",
    "FEMALE_COLOR = \"C1\"\n",
    "MALE_COLOR = \"C0\"\n",
    "ALL_COLOR = \"C5\"\n",
    "\n",
    "GLUC_COLOR = \"C0\"\n",
    "FOOD_COLOR = \"C1\""
   ]
  },
  {
   "cell_type": "code",
   "execution_count": null,
   "metadata": {},
   "outputs": [],
   "source": [
    "#| export\n",
    "\n",
    "def example_agesex_data(n: int = 1000) -> pd.DataFrame:\n",
    "    \"\"\"\n",
    "    Generates a sample DataFrame containing age, gender, and value data.\n",
    "\n",
    "    Args:\n",
    "        n: The number of rows in the generated DataFrame.\n",
    "\n",
    "    Returns:\n",
    "        A pandas DataFrame with columns 'age', 'gender', and 'val'.\n",
    "    \"\"\"\n",
    "    ages = np.random.uniform(35, 73, size=n)\n",
    "    genders = np.random.choice([0, 1], size=n)\n",
    "    vals = np.random.normal(30 + 1 * ages + 40 * genders, 20, size=n)\n",
    "    \n",
    "    data = pd.DataFrame(data={\"age_at_research_stage\": ages, \"sex\": genders, \"val1\": vals})\n",
    "    data[\"val2\"] = data[\"val1\"]*0.3 + 0.5*np.random.normal(0,50) + 0.2*10*data[\"sex\"]\n",
    "    return data"
   ]
  },
  {
   "cell_type": "code",
   "execution_count": null,
   "metadata": {},
   "outputs": [
    {
     "data": {
      "text/html": [
       "<div>\n",
       "<style scoped>\n",
       "    .dataframe tbody tr th:only-of-type {\n",
       "        vertical-align: middle;\n",
       "    }\n",
       "\n",
       "    .dataframe tbody tr th {\n",
       "        vertical-align: top;\n",
       "    }\n",
       "\n",
       "    .dataframe thead th {\n",
       "        text-align: right;\n",
       "    }\n",
       "</style>\n",
       "<table border=\"1\" class=\"dataframe\">\n",
       "  <thead>\n",
       "    <tr style=\"text-align: right;\">\n",
       "      <th></th>\n",
       "      <th>age_at_research_stage</th>\n",
       "      <th>sex</th>\n",
       "      <th>val1</th>\n",
       "      <th>val2</th>\n",
       "    </tr>\n",
       "  </thead>\n",
       "  <tbody>\n",
       "    <tr>\n",
       "      <th>0</th>\n",
       "      <td>49.885171</td>\n",
       "      <td>0</td>\n",
       "      <td>106.947791</td>\n",
       "      <td>37.361568</td>\n",
       "    </tr>\n",
       "    <tr>\n",
       "      <th>1</th>\n",
       "      <td>49.803657</td>\n",
       "      <td>1</td>\n",
       "      <td>128.705700</td>\n",
       "      <td>45.888941</td>\n",
       "    </tr>\n",
       "    <tr>\n",
       "      <th>2</th>\n",
       "      <td>55.433178</td>\n",
       "      <td>0</td>\n",
       "      <td>120.067667</td>\n",
       "      <td>41.297531</td>\n",
       "    </tr>\n",
       "    <tr>\n",
       "      <th>3</th>\n",
       "      <td>55.832332</td>\n",
       "      <td>1</td>\n",
       "      <td>113.601242</td>\n",
       "      <td>41.357604</td>\n",
       "    </tr>\n",
       "    <tr>\n",
       "      <th>4</th>\n",
       "      <td>56.496761</td>\n",
       "      <td>1</td>\n",
       "      <td>104.433925</td>\n",
       "      <td>38.607409</td>\n",
       "    </tr>\n",
       "  </tbody>\n",
       "</table>\n",
       "</div>"
      ],
      "text/plain": [
       "   age_at_research_stage  sex        val1       val2\n",
       "0              49.885171    0  106.947791  37.361568\n",
       "1              49.803657    1  128.705700  45.888941\n",
       "2              55.433178    0  120.067667  41.297531\n",
       "3              55.832332    1  113.601242  41.357604\n",
       "4              56.496761    1  104.433925  38.607409"
      ]
     },
     "execution_count": null,
     "metadata": {},
     "output_type": "execute_result"
    }
   ],
   "source": [
    "data = example_agesex_data()\n",
    "data.head()"
   ]
  },
  {
   "cell_type": "code",
   "execution_count": null,
   "metadata": {},
   "outputs": [],
   "source": [
    "#| hide\n",
    "import nbdev; nbdev.nbdev_export()"
   ]
  }
 ],
 "metadata": {
  "kernelspec": {
   "display_name": "python3",
   "language": "python",
   "name": "python3"
  }
 },
 "nbformat": 4,
 "nbformat_minor": 4
}
